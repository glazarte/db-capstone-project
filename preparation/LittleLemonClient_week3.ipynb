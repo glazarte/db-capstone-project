{
 "cells": [
  {
   "cell_type": "code",
   "execution_count": 1,
   "id": "d46d6bd5",
   "metadata": {},
   "outputs": [
    {
     "name": "stdout",
     "output_type": "stream",
     "text": [
      "Requirement already satisfied: mysql-connector-python in d:\\users\\gustavo\\anaconda3\\lib\\site-packages (8.3.0)\n"
     ]
    }
   ],
   "source": [
    "!pip install mysql-connector-python"
   ]
  },
  {
   "cell_type": "code",
   "execution_count": 2,
   "id": "79e33ca7",
   "metadata": {},
   "outputs": [],
   "source": [
    "import mysql.connector as connector"
   ]
  },
  {
   "cell_type": "code",
   "execution_count": 6,
   "id": "f377015a",
   "metadata": {},
   "outputs": [],
   "source": [
    "connection = connector.connect(user = \"root\", password = \"GustavoSQL9586!\",port = 3306, host=\"localhost\", db = \"mydb\")"
   ]
  },
  {
   "cell_type": "code",
   "execution_count": 7,
   "id": "f00de69d",
   "metadata": {},
   "outputs": [],
   "source": [
    "cursor = connection.cursor()"
   ]
  },
  {
   "cell_type": "code",
   "execution_count": 8,
   "id": "5098cd4d",
   "metadata": {},
   "outputs": [],
   "source": [
    "show_tables_query = \"SHOW TABLES\"\n",
    "cursor.execute(show_tables_query)"
   ]
  },
  {
   "cell_type": "code",
   "execution_count": 9,
   "id": "e4cf31ae",
   "metadata": {},
   "outputs": [
    {
     "name": "stdout",
     "output_type": "stream",
     "text": [
      "[('bookings',), ('customer',), ('menu',), ('menuitems',), ('orderdeliverystatus',), ('orders',), ('ordersview',), ('staffinformation',)]\n"
     ]
    }
   ],
   "source": [
    "results = cursor.fetchall()\n",
    "\n",
    "# Print the list of tables\n",
    "print(results)"
   ]
  },
  {
   "cell_type": "code",
   "execution_count": 10,
   "id": "3bb15dda",
   "metadata": {},
   "outputs": [],
   "source": [
    "# SQL query with JOIN and WHERE clause\n",
    "query = \"\"\"\n",
    "    SELECT customer.name, customer.contact_details, orders.total_cost\n",
    "    FROM customer\n",
    "    JOIN orders ON customer.customer_id = orders.customer_customer_id\n",
    "    WHERE orders.total_cost > 60\n",
    "\"\"\""
   ]
  },
  {
   "cell_type": "code",
   "execution_count": 11,
   "id": "19aa9561",
   "metadata": {},
   "outputs": [],
   "source": [
    "cursor.execute(query)"
   ]
  },
  {
   "cell_type": "code",
   "execution_count": 12,
   "id": "a80f559f",
   "metadata": {},
   "outputs": [],
   "source": [
    "results = cursor.fetchall()"
   ]
  },
  {
   "cell_type": "code",
   "execution_count": 13,
   "id": "8c1fe161",
   "metadata": {},
   "outputs": [
    {
     "name": "stdout",
     "output_type": "stream",
     "text": [
      "('Ale', '123', Decimal('171.00'))\n",
      "('Kouichi', '321', Decimal('174.00'))\n",
      "('John Doe', 'john.doe@example.com', Decimal('358.00'))\n",
      "('Jane Doe', 'jane.doe@example.com', Decimal('265.00'))\n",
      "('Alice', 'alice@example.com', Decimal('252.00'))\n",
      "('Bob', 'bob@example.com', Decimal('465.00'))\n",
      "('Charlie', 'charlie@example.com', Decimal('65.00'))\n",
      "('David', 'david@example.com', Decimal('437.00'))\n",
      "('Emily', 'emily@example.com', Decimal('484.00'))\n",
      "('Frank', 'frank@example.com', Decimal('111.00'))\n"
     ]
    }
   ],
   "source": [
    "for row in results:\n",
    "    print(row)"
   ]
  },
  {
   "cell_type": "code",
   "execution_count": null,
   "id": "5f90651c",
   "metadata": {},
   "outputs": [],
   "source": []
  }
 ],
 "metadata": {
  "kernelspec": {
   "display_name": "Python 3 (ipykernel)",
   "language": "python",
   "name": "python3"
  },
  "language_info": {
   "codemirror_mode": {
    "name": "ipython",
    "version": 3
   },
   "file_extension": ".py",
   "mimetype": "text/x-python",
   "name": "python",
   "nbconvert_exporter": "python",
   "pygments_lexer": "ipython3",
   "version": "3.9.13"
  }
 },
 "nbformat": 4,
 "nbformat_minor": 5
}
