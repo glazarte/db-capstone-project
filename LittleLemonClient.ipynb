{
 "cells": [
  {
   "cell_type": "code",
   "execution_count": 1,
   "id": "0a67f222",
   "metadata": {},
   "outputs": [
    {
     "name": "stdout",
     "output_type": "stream",
     "text": [
      "Requirement already satisfied: mysql-connector-python in d:\\users\\gustavo\\anaconda3\\lib\\site-packages (8.3.0)\n"
     ]
    }
   ],
   "source": [
    "!pip install mysql-connector-python"
   ]
  },
  {
   "cell_type": "code",
   "execution_count": 2,
   "id": "b2a18262",
   "metadata": {},
   "outputs": [],
   "source": [
    "import mysql.connector as connector"
   ]
  },
  {
   "cell_type": "code",
   "execution_count": 3,
   "id": "db54acda",
   "metadata": {},
   "outputs": [],
   "source": [
    "connection = connector.connect(user = \"root\", password = \"GustavoSQL9586!\",port = 3306, host=\"localhost\", db = \"mydb\")"
   ]
  },
  {
   "cell_type": "code",
   "execution_count": 4,
   "id": "f82a7115",
   "metadata": {},
   "outputs": [],
   "source": [
    "cursor = connection.cursor()"
   ]
  },
  {
   "cell_type": "code",
   "execution_count": 5,
   "id": "ff5468da",
   "metadata": {},
   "outputs": [],
   "source": [
    "show_tables_query = \"SHOW TABLES\"\n",
    "cursor.execute(show_tables_query)"
   ]
  },
  {
   "cell_type": "code",
   "execution_count": 6,
   "id": "842dbdd4",
   "metadata": {},
   "outputs": [
    {
     "name": "stdout",
     "output_type": "stream",
     "text": [
      "[('bookings',), ('customer',), ('menu',), ('menuitems',), ('orderdeliverystatus',), ('orders',), ('ordersview',), ('staffinformation',)]\n"
     ]
    }
   ],
   "source": [
    "results = cursor.fetchall()\n",
    "\n",
    "# Print the list of tables\n",
    "print(results)"
   ]
  },
  {
   "cell_type": "code",
   "execution_count": 7,
   "id": "99cc2db1",
   "metadata": {},
   "outputs": [],
   "source": [
    "# SQL query with JOIN and WHERE clause\n",
    "query = \"\"\"\n",
    "    SELECT customer.name, customer.contact_details, orders.total_cost\n",
    "    FROM customer\n",
    "    JOIN orders ON customer.customer_id = orders.customer_customer_id\n",
    "    WHERE orders.total_cost > 60\n",
    "\"\"\""
   ]
  },
  {
   "cell_type": "code",
   "execution_count": 8,
   "id": "1d2ecfb6",
   "metadata": {},
   "outputs": [],
   "source": [
    "cursor.execute(query)"
   ]
  },
  {
   "cell_type": "code",
   "execution_count": 9,
   "id": "d4b7a6a6",
   "metadata": {},
   "outputs": [],
   "source": [
    "results = cursor.fetchall()"
   ]
  },
  {
   "cell_type": "code",
   "execution_count": 10,
   "id": "19e4e4bc",
   "metadata": {},
   "outputs": [
    {
     "name": "stdout",
     "output_type": "stream",
     "text": [
      "('Ale', '123', Decimal('171.00'))\n",
      "('Kouichi', '321', Decimal('174.00'))\n",
      "('John Doe', 'john.doe@example.com', Decimal('358.00'))\n",
      "('Jane Doe', 'jane.doe@example.com', Decimal('265.00'))\n",
      "('Alice', 'alice@example.com', Decimal('252.00'))\n",
      "('Bob', 'bob@example.com', Decimal('465.00'))\n",
      "('Charlie', 'charlie@example.com', Decimal('65.00'))\n",
      "('David', 'david@example.com', Decimal('437.00'))\n",
      "('Emily', 'emily@example.com', Decimal('484.00'))\n",
      "('Frank', 'frank@example.com', Decimal('111.00'))\n"
     ]
    }
   ],
   "source": [
    "for row in results:\n",
    "    print(row)"
   ]
  },
  {
   "cell_type": "markdown",
   "id": "15acfac7",
   "metadata": {},
   "source": [
    "Procedimiento GetMaxQuantity"
   ]
  },
  {
   "cell_type": "code",
   "execution_count": 21,
   "id": "cce26f5a",
   "metadata": {},
   "outputs": [],
   "source": [
    "import mysql.connector\n",
    "from mysql.connector import Error\n",
    "\n",
    "def create_connection():\n",
    "    try:\n",
    "        connection = mysql.connector.connect(\n",
    "            host='localhost',\n",
    "            database='mydb',\n",
    "            user='root',\n",
    "            password='GustavoSQL9586!'\n",
    "        )\n",
    "        if connection.is_connected():\n",
    "            print(\"Conexión establecida a la base de datos\")\n",
    "            return connection\n",
    "    except Error as e:\n",
    "        print(f\"Error al conectar a la base de datos: {e}\")\n",
    "        return None\n",
    "\n",
    "def close_connection(connection):\n",
    "    if connection.is_connected():\n",
    "        connection.close()\n",
    "        print(\"Conexión cerrada\")\n",
    "\n",
    "def create_get_max_quantity_procedure():\n",
    "    connection = create_connection()\n",
    "    if connection is None:\n",
    "        return\n",
    "\n",
    "    try:\n",
    "        cursor = connection.cursor()\n",
    "\n",
    "        # Elimina el procedimiento si ya existe\n",
    "        drop_procedure_query = \"DROP PROCEDURE IF EXISTS GetMaxQuantity;\"\n",
    "        cursor.execute(drop_procedure_query)\n",
    "\n",
    "        # Define el procedimiento almacenado\n",
    "        create_procedure_query = \"\"\"\n",
    "        CREATE PROCEDURE GetMaxQuantity()\n",
    "        BEGIN\n",
    "            SELECT MAX(Quantity) AS MaxQuantity FROM Orders;\n",
    "        END;\n",
    "        \"\"\"\n",
    "        cursor.execute(create_procedure_query)\n",
    "        print(\"Procedimiento GetMaxQuantity() creado correctamente\")\n",
    "\n",
    "    except Error as e:\n",
    "        print(f\"Error al crear el procedimiento: {e}\")\n",
    "\n",
    "    finally:\n",
    "        cursor.close()\n",
    "        close_connection(connection)\n",
    "\n",
    "def call_get_max_quantity_procedure():\n",
    "    connection = create_connection()\n",
    "    if connection is None:\n",
    "        return\n",
    "\n",
    "    try:\n",
    "        cursor = connection.cursor()\n",
    "\n",
    "        cursor.callproc('GetMaxQuantity')\n",
    "\n",
    "        for result in cursor.stored_results():\n",
    "            max_quantity = result.fetchone()[0]\n",
    "            print(f\"La máxima cantidad en una orden es: {max_quantity}\")\n",
    "            return max_quantity\n",
    "\n",
    "    except Error as e:\n",
    "        print(f\"Error al llamar al procedimiento: {e}\")\n",
    "\n",
    "    finally:\n",
    "        cursor.close()\n",
    "        close_connection(connection)\n",
    "\n"
   ]
  },
  {
   "cell_type": "code",
   "execution_count": 25,
   "id": "4d404b56",
   "metadata": {},
   "outputs": [
    {
     "name": "stdout",
     "output_type": "stream",
     "text": [
      "Conexión establecida a la base de datos\n",
      "Procedimiento GetMaxQuantity() creado correctamente\n",
      "Conexión cerrada\n",
      "Conexión establecida a la base de datos\n",
      "La máxima cantidad en una orden es: 5\n",
      "Conexión cerrada\n",
      "5\n"
     ]
    }
   ],
   "source": [
    "# Ejecutar las funciones\n",
    "create_get_max_quantity_procedure()\n",
    "max_quantity = call_get_max_quantity_procedure()\n",
    "print(max_quantity)\n"
   ]
  },
  {
   "cell_type": "markdown",
   "id": "9134b2fd",
   "metadata": {},
   "source": [
    "Procedure ManageBooking"
   ]
  },
  {
   "cell_type": "code",
   "execution_count": 26,
   "id": "fa9c4489",
   "metadata": {},
   "outputs": [],
   "source": [
    "import mysql.connector\n",
    "from mysql.connector import Error\n",
    "\n",
    "def create_connection():\n",
    "    try:\n",
    "        connection = mysql.connector.connect(\n",
    "            host='localhost',\n",
    "            database='mydb',\n",
    "            user='root',\n",
    "            password='GustavoSQL9586!'\n",
    "        )\n",
    "        if connection.is_connected():\n",
    "            print(\"Conexión establecida a la base de datos\")\n",
    "            return connection\n",
    "    except Error as e:\n",
    "        print(f\"Error al conectar a la base de datos: {e}\")\n",
    "        return None\n",
    "\n",
    "def close_connection(connection):\n",
    "    if connection.is_connected():\n",
    "        connection.close()\n",
    "        print(\"Conexión cerrada\")\n",
    "\n",
    "def create_manage_booking_procedure():\n",
    "    connection = create_connection()\n",
    "    if connection is None:\n",
    "        return\n",
    "\n",
    "    try:\n",
    "        cursor = connection.cursor()\n",
    "\n",
    "        # Elimina el procedimiento si ya existe\n",
    "        drop_procedure_query = \"DROP PROCEDURE IF EXISTS ManageBooking;\"\n",
    "        cursor.execute(drop_procedure_query)\n",
    "\n",
    "        # Define el procedimiento almacenado\n",
    "        create_procedure_query = \"\"\"\n",
    "        CREATE PROCEDURE ManageBooking(\n",
    "            IN action VARCHAR(10),\n",
    "            IN booking_id INT,\n",
    "            IN customer_id INT,\n",
    "            IN booking_date DATE,\n",
    "            IN table_number INT,\n",
    "            IN staffinformation_id INT\n",
    "        )\n",
    "        BEGIN\n",
    "            IF action = 'CREATE' THEN\n",
    "                INSERT INTO Bookings (customer_id, date, table_number, staffinformation_staffinformation_id)\n",
    "                VALUES (customer_id, booking_date, table_number, staffinformation_id);\n",
    "            ELSEIF action = 'READ' THEN\n",
    "                SELECT * FROM Bookings WHERE booking_id = booking_id;\n",
    "            ELSEIF action = 'UPDATE' THEN\n",
    "                UPDATE Bookings\n",
    "                SET customer_id = customer_id, date = booking_date, table_number = table_number, staffinformation_staffinformation_id = staffinformation_id\n",
    "                WHERE booking_id = booking_id;\n",
    "            ELSEIF action = 'DELETE' THEN\n",
    "                DELETE FROM Bookings WHERE booking_id = booking_id;\n",
    "            END IF;\n",
    "        END;\n",
    "        \"\"\"\n",
    "        cursor.execute(create_procedure_query)\n",
    "        print(\"Procedimiento ManageBooking() creado correctamente\")\n",
    "\n",
    "    except Error as e:\n",
    "        print(f\"Error al crear el procedimiento: {e}\")\n",
    "\n",
    "    finally:\n",
    "        cursor.close()\n",
    "        close_connection(connection)\n",
    "\n",
    "def call_manage_booking_procedure(action, booking_id=None, customer_id=None, booking_date=None, table_number=None, staffinformation_id=None):\n",
    "    connection = create_connection()\n",
    "    if connection is None:\n",
    "        return\n",
    "\n",
    "    try:\n",
    "        cursor = connection.cursor()\n",
    "\n",
    "        # Llama al procedimiento almacenado\n",
    "        cursor.callproc('ManageBooking', [action, booking_id, customer_id, booking_date, table_number, staffinformation_id])\n",
    "\n",
    "        if action == 'READ':\n",
    "            # Recupera el resultado\n",
    "            for result in cursor.stored_results():\n",
    "                booking = result.fetchall()\n",
    "                for row in booking:\n",
    "                    print(row)\n",
    "                return booking\n",
    "        else:\n",
    "            # Commit para las operaciones CREATE, UPDATE y DELETE\n",
    "            connection.commit()\n",
    "            print(f\"Operación {action} ejecutada correctamente\")\n",
    "\n",
    "    except Error as e:\n",
    "        print(f\"Error al llamar al procedimiento: {e}\")\n",
    "\n",
    "    finally:\n",
    "        cursor.close()\n",
    "        close_connection(connection)\n",
    "\n"
   ]
  },
  {
   "cell_type": "code",
   "execution_count": 27,
   "id": "faf7b501",
   "metadata": {},
   "outputs": [
    {
     "name": "stdout",
     "output_type": "stream",
     "text": [
      "Conexión establecida a la base de datos\n",
      "Procedimiento ManageBooking() creado correctamente\n",
      "Conexión cerrada\n"
     ]
    }
   ],
   "source": [
    "# Ejecutar las funciones\n",
    "create_manage_booking_procedure()"
   ]
  },
  {
   "cell_type": "code",
   "execution_count": 28,
   "id": "3782c52c",
   "metadata": {},
   "outputs": [
    {
     "name": "stdout",
     "output_type": "stream",
     "text": [
      "Conexión establecida a la base de datos\n",
      "Operación CREATE ejecutada correctamente\n",
      "Conexión cerrada\n"
     ]
    }
   ],
   "source": [
    "# Ejemplo de uso: Crear una nueva reserva\n",
    "call_manage_booking_procedure('CREATE', customer_id=11, booking_date='2024-06-25', table_number=10, staffinformation_id=3)"
   ]
  },
  {
   "cell_type": "code",
   "execution_count": 32,
   "id": "ff8eb206",
   "metadata": {},
   "outputs": [
    {
     "name": "stdout",
     "output_type": "stream",
     "text": [
      "Conexión establecida a la base de datos\n",
      "(1, datetime.datetime(2022, 10, 10, 0, 0), 5, 11, 1)\n",
      "(2, datetime.datetime(2022, 11, 12, 0, 0), 3, 10, 3)\n",
      "(3, datetime.datetime(2022, 10, 11, 0, 0), 2, 1, 2)\n",
      "(4, datetime.datetime(2022, 10, 13, 0, 0), 2, 2, 1)\n",
      "(5, datetime.datetime(2024, 6, 2, 0, 0), 14, 3, 3)\n",
      "(6, datetime.datetime(2024, 6, 2, 0, 0), 16, 4, 4)\n",
      "(7, datetime.datetime(2024, 6, 3, 0, 0), 18, 5, 5)\n",
      "(8, datetime.datetime(2024, 6, 3, 0, 0), 20, 6, 6)\n",
      "(9, datetime.datetime(2024, 6, 4, 0, 0), 22, 7, 7)\n",
      "(10, datetime.datetime(2024, 6, 4, 0, 0), 24, 8, 8)\n",
      "(11, datetime.datetime(2024, 6, 5, 0, 0), 26, 9, 9)\n",
      "(12, datetime.datetime(2024, 6, 5, 0, 0), 28, 10, 10)\n",
      "(13, datetime.datetime(2024, 6, 1, 12, 0), 10, 1, 1)\n",
      "(14, datetime.datetime(2024, 6, 1, 12, 30), 12, 2, 2)\n",
      "(15, datetime.datetime(2024, 6, 2, 13, 0), 14, 3, 3)\n",
      "(16, datetime.datetime(2024, 6, 2, 14, 0), 16, 4, 4)\n",
      "(17, datetime.datetime(2024, 6, 3, 15, 0), 18, 5, 5)\n",
      "(18, datetime.datetime(2024, 6, 3, 16, 0), 20, 6, 6)\n",
      "(19, datetime.datetime(2024, 6, 4, 17, 0), 22, 7, 7)\n",
      "(20, datetime.datetime(2024, 6, 4, 18, 0), 24, 8, 8)\n",
      "(21, datetime.datetime(2024, 6, 5, 19, 0), 26, 9, 9)\n",
      "(22, datetime.datetime(2024, 6, 5, 20, 0), 28, 10, 10)\n",
      "(24, datetime.datetime(2024, 6, 25, 0, 0), 10, 3, 11)\n",
      "Conexión cerrada\n"
     ]
    },
    {
     "data": {
      "text/plain": [
       "[(1, datetime.datetime(2022, 10, 10, 0, 0), 5, 11, 1),\n",
       " (2, datetime.datetime(2022, 11, 12, 0, 0), 3, 10, 3),\n",
       " (3, datetime.datetime(2022, 10, 11, 0, 0), 2, 1, 2),\n",
       " (4, datetime.datetime(2022, 10, 13, 0, 0), 2, 2, 1),\n",
       " (5, datetime.datetime(2024, 6, 2, 0, 0), 14, 3, 3),\n",
       " (6, datetime.datetime(2024, 6, 2, 0, 0), 16, 4, 4),\n",
       " (7, datetime.datetime(2024, 6, 3, 0, 0), 18, 5, 5),\n",
       " (8, datetime.datetime(2024, 6, 3, 0, 0), 20, 6, 6),\n",
       " (9, datetime.datetime(2024, 6, 4, 0, 0), 22, 7, 7),\n",
       " (10, datetime.datetime(2024, 6, 4, 0, 0), 24, 8, 8),\n",
       " (11, datetime.datetime(2024, 6, 5, 0, 0), 26, 9, 9),\n",
       " (12, datetime.datetime(2024, 6, 5, 0, 0), 28, 10, 10),\n",
       " (13, datetime.datetime(2024, 6, 1, 12, 0), 10, 1, 1),\n",
       " (14, datetime.datetime(2024, 6, 1, 12, 30), 12, 2, 2),\n",
       " (15, datetime.datetime(2024, 6, 2, 13, 0), 14, 3, 3),\n",
       " (16, datetime.datetime(2024, 6, 2, 14, 0), 16, 4, 4),\n",
       " (17, datetime.datetime(2024, 6, 3, 15, 0), 18, 5, 5),\n",
       " (18, datetime.datetime(2024, 6, 3, 16, 0), 20, 6, 6),\n",
       " (19, datetime.datetime(2024, 6, 4, 17, 0), 22, 7, 7),\n",
       " (20, datetime.datetime(2024, 6, 4, 18, 0), 24, 8, 8),\n",
       " (21, datetime.datetime(2024, 6, 5, 19, 0), 26, 9, 9),\n",
       " (22, datetime.datetime(2024, 6, 5, 20, 0), 28, 10, 10),\n",
       " (24, datetime.datetime(2024, 6, 25, 0, 0), 10, 3, 11)]"
      ]
     },
     "execution_count": 32,
     "metadata": {},
     "output_type": "execute_result"
    }
   ],
   "source": [
    "# Ejemplo de uso: Leer una reserva existente\n",
    "call_manage_booking_procedure('READ', booking_id=2)"
   ]
  },
  {
   "cell_type": "code",
   "execution_count": 33,
   "id": "143e0d62",
   "metadata": {},
   "outputs": [
    {
     "name": "stdout",
     "output_type": "stream",
     "text": [
      "Conexión establecida a la base de datos\n",
      "Operación UPDATE ejecutada correctamente\n",
      "Conexión cerrada\n"
     ]
    }
   ],
   "source": [
    "# Ejemplo de uso: Actualizar una reserva existente\n",
    "call_manage_booking_procedure('UPDATE', booking_id=1, customer_id=1, booking_date='2024-06-26', table_number=12, staffinformation_id=3)"
   ]
  },
  {
   "cell_type": "code",
   "execution_count": 34,
   "id": "cfa636a9",
   "metadata": {},
   "outputs": [
    {
     "name": "stdout",
     "output_type": "stream",
     "text": [
      "Conexión establecida a la base de datos\n",
      "Operación DELETE ejecutada correctamente\n",
      "Conexión cerrada\n"
     ]
    }
   ],
   "source": [
    "# Ejemplo de uso: Eliminar una reserva existente\n",
    "call_manage_booking_procedure('DELETE', booking_id=24)"
   ]
  },
  {
   "cell_type": "code",
   "execution_count": null,
   "id": "30355f3d",
   "metadata": {},
   "outputs": [],
   "source": []
  }
 ],
 "metadata": {
  "kernelspec": {
   "display_name": "Python 3 (ipykernel)",
   "language": "python",
   "name": "python3"
  },
  "language_info": {
   "codemirror_mode": {
    "name": "ipython",
    "version": 3
   },
   "file_extension": ".py",
   "mimetype": "text/x-python",
   "name": "python",
   "nbconvert_exporter": "python",
   "pygments_lexer": "ipython3",
   "version": "3.9.13"
  }
 },
 "nbformat": 4,
 "nbformat_minor": 5
}
